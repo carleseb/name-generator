{
 "cells": [
  {
   "cell_type": "code",
   "execution_count": 1,
   "id": "1bf3ef1d",
   "metadata": {},
   "outputs": [],
   "source": [
    "import math\n",
    "import numpy as np\n",
    "import matplotlib.pyplot as plt\n",
    "import torch\n",
    "import torch.nn.functional as F\n",
    "import random\n",
    "%matplotlib inline"
   ]
  },
  {
   "cell_type": "code",
   "execution_count": 2,
   "id": "0d189e20",
   "metadata": {},
   "outputs": [
    {
     "data": {
      "text/plain": [
       "['emma', 'olivia', 'ava', 'isabella', 'sophia', 'charlotte', 'mia', 'amelia']"
      ]
     },
     "execution_count": 2,
     "metadata": {},
     "output_type": "execute_result"
    }
   ],
   "source": [
    "# read all the words\n",
    "words = open('names.txt', 'r').read().splitlines()\n",
    "words[:8]"
   ]
  },
  {
   "cell_type": "code",
   "execution_count": 3,
   "id": "e4c3d1b5",
   "metadata": {},
   "outputs": [
    {
     "data": {
      "text/plain": [
       "32033"
      ]
     },
     "execution_count": 3,
     "metadata": {},
     "output_type": "execute_result"
    }
   ],
   "source": [
    "len(words)"
   ]
  },
  {
   "cell_type": "code",
   "execution_count": 4,
   "id": "4f392ae5",
   "metadata": {},
   "outputs": [
    {
     "name": "stdout",
     "output_type": "stream",
     "text": [
      "{1: 'a', 2: 'b', 3: 'c', 4: 'd', 5: 'e', 6: 'f', 7: 'g', 8: 'h', 9: 'i', 10: 'j', 11: 'k', 12: 'l', 13: 'm', 14: 'n', 15: 'o', 16: 'p', 17: 'q', 18: 'r', 19: 's', 20: 't', 21: 'u', 22: 'v', 23: 'w', 24: 'x', 25: 'y', 26: 'z', 0: '.'}\n"
     ]
    }
   ],
   "source": [
    "# build the vocabulary of characters and mappings to/from integers\n",
    "chars = sorted(list(set(''.join(words))))\n",
    "stoi = {s:i+1 for i,s in enumerate(chars)}\n",
    "stoi['.'] = 0\n",
    "itos = {i:s for s,i in stoi.items()}\n",
    "print(itos)"
   ]
  },
  {
   "cell_type": "code",
   "execution_count": 5,
   "id": "15219518",
   "metadata": {},
   "outputs": [],
   "source": [
    "# build the dataset\n",
    "\n",
    "block_size = 3 # context length: how many characters do we take to predict the next one?\n",
    "X, Y = [], []\n",
    "for w in words:\n",
    "    #print(w)\n",
    "    context = [0] * block_size\n",
    "    for ch in w + '.':\n",
    "        ix = stoi[ch]\n",
    "        X.append(context)\n",
    "        Y.append(ix)\n",
    "        #print(''.join(itos[i] for i in context), '--->', itos[ix])\n",
    "        context = context[1:] + [ix] # crop and append\n",
    "\n",
    "X = torch.tensor(X)\n",
    "Y = torch.tensor(Y)"
   ]
  },
  {
   "cell_type": "code",
   "execution_count": 6,
   "id": "e8790ab7",
   "metadata": {},
   "outputs": [
    {
     "data": {
      "text/plain": [
       "(torch.Size([228146, 3]), torch.int64, torch.Size([228146]), torch.int64)"
      ]
     },
     "execution_count": 6,
     "metadata": {},
     "output_type": "execute_result"
    }
   ],
   "source": [
    "X.shape, X.dtype, Y.shape, Y.dtype\n",
    "# X: From 5 words we have a dataset of 32 examples. Each example has size 3 because thats how much back we want to\n",
    "# go on the word for training (integers corresponding to characters)\n",
    "# Y: same as X but with one single prediction of the character coming next (integer)"
   ]
  },
  {
   "cell_type": "code",
   "execution_count": 7,
   "id": "c77e213b",
   "metadata": {},
   "outputs": [],
   "source": [
    "C = torch.randn((27, 2))\n",
    "# The embeddings of each of these integers (characters) into the nn is done by vectors of dimension 2\n",
    "# This is a weight matrix!"
   ]
  },
  {
   "cell_type": "code",
   "execution_count": 8,
   "id": "21346ce5",
   "metadata": {},
   "outputs": [
    {
     "data": {
      "text/plain": [
       "tensor([ 0.8450, -1.3980])"
      ]
     },
     "execution_count": 8,
     "metadata": {},
     "output_type": "execute_result"
    }
   ],
   "source": [
    "# A simple way to embed the character 'e' (integer 5) would simply be\n",
    "C[5]"
   ]
  },
  {
   "cell_type": "code",
   "execution_count": 9,
   "id": "de6362b6",
   "metadata": {},
   "outputs": [
    {
     "data": {
      "text/plain": [
       "tensor([ 0.8450, -1.3980])"
      ]
     },
     "execution_count": 9,
     "metadata": {},
     "output_type": "execute_result"
    }
   ],
   "source": [
    "# We could also use the one hot encoding\n",
    "F.one_hot(torch.tensor(5), num_classes=27).float() @ C #must input torch tensor! careful with datatypes!"
   ]
  },
  {
   "cell_type": "code",
   "execution_count": 10,
   "id": "f7055b3d",
   "metadata": {},
   "outputs": [
    {
     "data": {
      "text/plain": [
       "tensor([[ 0.1066,  0.9200],\n",
       "        [ 0.8450, -1.3980],\n",
       "        [ 1.8850,  0.4339]])"
      ]
     },
     "execution_count": 10,
     "metadata": {},
     "output_type": "execute_result"
    }
   ],
   "source": [
    "# We will jsut use the first option in this case sice we can index with lists and tensors\n",
    "C[[4,5,6]]"
   ]
  },
  {
   "cell_type": "code",
   "execution_count": 11,
   "id": "3224e9d2",
   "metadata": {},
   "outputs": [
    {
     "data": {
      "text/plain": [
       "torch.Size([228146, 3, 2])"
      ]
     },
     "execution_count": 11,
     "metadata": {},
     "output_type": "execute_result"
    }
   ],
   "source": [
    "emb = C[X]\n",
    "emb.shape"
   ]
  },
  {
   "cell_type": "code",
   "execution_count": 12,
   "id": "bc4cfc25",
   "metadata": {},
   "outputs": [],
   "source": [
    "# -------------------------------------------------------------------------------------"
   ]
  },
  {
   "cell_type": "code",
   "execution_count": 13,
   "id": "3f3ba62a",
   "metadata": {},
   "outputs": [],
   "source": [
    "# We construct the hidden layer, with number of inputs 3*2 = 6 and neurons 100 (free of choice)\n",
    "W1 = torch.randn((6, 100))\n",
    "b1 = torch.randn(100)"
   ]
  },
  {
   "cell_type": "code",
   "execution_count": 14,
   "id": "9429d88f",
   "metadata": {},
   "outputs": [
    {
     "data": {
      "text/plain": [
       "tensor([[-0.8687, -0.2353, -0.8687, -0.2353, -0.8687, -0.2353],\n",
       "        [-0.8687, -0.2353, -0.8687, -0.2353,  0.8450, -1.3980],\n",
       "        [-0.8687, -0.2353,  0.8450, -1.3980, -0.6180,  2.6447],\n",
       "        ...,\n",
       "        [ 0.9843,  0.3788,  0.9843,  0.3788, -1.4506, -0.7092],\n",
       "        [ 0.9843,  0.3788, -1.4506, -0.7092,  0.9843,  0.3788],\n",
       "        [-1.4506, -0.7092,  0.9843,  0.3788, -0.7466, -1.9923]])"
      ]
     },
     "execution_count": 14,
     "metadata": {},
     "output_type": "execute_result"
    }
   ],
   "source": [
    "# Before multiplying we need to unstack the emb tensor to (something, 6) instead of (something, 3, 2)\n",
    "# We want to concatenate the embedding of the three integers alltogether:\n",
    "torch.cat((emb[:,0,:], emb[:,1,:], emb[:,2,:]), 1)"
   ]
  },
  {
   "cell_type": "code",
   "execution_count": 15,
   "id": "b5bf12f2",
   "metadata": {},
   "outputs": [
    {
     "data": {
      "text/plain": [
       "tensor([[-0.8687, -0.2353, -0.8687, -0.2353, -0.8687, -0.2353],\n",
       "        [-0.8687, -0.2353, -0.8687, -0.2353,  0.8450, -1.3980],\n",
       "        [-0.8687, -0.2353,  0.8450, -1.3980, -0.6180,  2.6447],\n",
       "        ...,\n",
       "        [ 0.9843,  0.3788,  0.9843,  0.3788, -1.4506, -0.7092],\n",
       "        [ 0.9843,  0.3788, -1.4506, -0.7092,  0.9843,  0.3788],\n",
       "        [-1.4506, -0.7092,  0.9843,  0.3788, -0.7466, -1.9923]])"
      ]
     },
     "execution_count": 15,
     "metadata": {},
     "output_type": "execute_result"
    }
   ],
   "source": [
    "# For general block size\n",
    "torch.cat(torch.unbind(emb, 1), 1)"
   ]
  },
  {
   "cell_type": "code",
   "execution_count": 17,
   "id": "02bb7fa6",
   "metadata": {},
   "outputs": [],
   "source": [
    "# However there is a better and more efficiient way of doing these operations\n",
    "#emb.view(32, 6) # only works taking the first 5 names (32 examples)"
   ]
  },
  {
   "cell_type": "code",
   "execution_count": 19,
   "id": "e1360c87",
   "metadata": {},
   "outputs": [],
   "source": [
    "# Therefore\n",
    "#h = emb.view(32, 6) @ W1 + b1 # only works taking the first 5 names (32 examples)"
   ]
  },
  {
   "cell_type": "code",
   "execution_count": 20,
   "id": "13eb82ff",
   "metadata": {},
   "outputs": [],
   "source": [
    "# In geenral we can do\n",
    "h = torch.tanh(emb.view(-1, 6) @ W1 + b1)"
   ]
  },
  {
   "cell_type": "code",
   "execution_count": 21,
   "id": "2dc8481e",
   "metadata": {},
   "outputs": [
    {
     "data": {
      "text/plain": [
       "tensor([[ 0.0106, -0.8793,  0.1586,  ...,  0.9779,  0.8476,  0.9577],\n",
       "        [-0.7428, -0.4157, -0.9799,  ...,  0.1043, -0.8140,  0.9801],\n",
       "        [ 0.9986,  0.9650,  0.9916,  ...,  0.9986,  0.9999, -0.9910],\n",
       "        ...,\n",
       "        [ 0.3208,  0.9998,  0.7080,  ...,  0.1467,  0.9727,  0.9996],\n",
       "        [ 0.9933, -0.9261,  0.2609,  ..., -0.9775,  0.8978,  0.8082],\n",
       "        [-0.9978,  0.9994, -0.9260,  ...,  0.9945, -0.5496,  0.9980]])"
      ]
     },
     "execution_count": 21,
     "metadata": {},
     "output_type": "execute_result"
    }
   ],
   "source": [
    "h"
   ]
  },
  {
   "cell_type": "code",
   "execution_count": 22,
   "id": "028f894e",
   "metadata": {},
   "outputs": [],
   "source": [
    "W2 = torch.randn((100, 27)) # From 100 inputs to 27 outputs (neurons) -> the number of integers (letters)\n",
    "b2 = torch.randn(27)"
   ]
  },
  {
   "cell_type": "code",
   "execution_count": 23,
   "id": "9bfd7535",
   "metadata": {},
   "outputs": [],
   "source": [
    "logits = h @ W2 + b2 # Outputs in the shape of one hot encoded integers for all the input integers: (something, 27)"
   ]
  },
  {
   "cell_type": "code",
   "execution_count": 24,
   "id": "0bcf07df",
   "metadata": {},
   "outputs": [],
   "source": [
    "counts = logits.exp()"
   ]
  },
  {
   "cell_type": "code",
   "execution_count": 25,
   "id": "15f51c8d",
   "metadata": {},
   "outputs": [],
   "source": [
    "prob = counts / counts.sum(1, keepdims = True)"
   ]
  },
  {
   "cell_type": "code",
   "execution_count": 26,
   "id": "0bdb7df2",
   "metadata": {},
   "outputs": [
    {
     "data": {
      "text/plain": [
       "tensor(1.)"
      ]
     },
     "execution_count": 26,
     "metadata": {},
     "output_type": "execute_result"
    }
   ],
   "source": [
    "# We can see that all rows (single letter belonging to somehting, probabilities of being any of the 27 letters) sum to 1\n",
    "prob[0].sum()"
   ]
  },
  {
   "cell_type": "code",
   "execution_count": 27,
   "id": "7d373abe",
   "metadata": {},
   "outputs": [],
   "source": [
    "# -------------------------------------------------------------------------------------"
   ]
  },
  {
   "cell_type": "code",
   "execution_count": 29,
   "id": "d0d902f3",
   "metadata": {},
   "outputs": [],
   "source": [
    "# Now we want to compare each of the outputs to the actual output that should be predicted given bt Y (to train)\n",
    "#a = prob[torch.arange(32), Y] # probas of having predicted the next characted succesfully for our 32 examples, corresponding, only works taking the first 5 names (32 examples)\n",
    "# to the 5 first words in words"
   ]
  },
  {
   "cell_type": "code",
   "execution_count": 31,
   "id": "0fa15750",
   "metadata": {},
   "outputs": [],
   "source": [
    "# We need to do the minimization of the loss\n",
    "#loss = -a.log().mean() # only works taking the first 5 names (32 examples)"
   ]
  },
  {
   "cell_type": "code",
   "execution_count": 33,
   "id": "a119536e",
   "metadata": {},
   "outputs": [],
   "source": [
    "#loss # only works taking the first 5 names (32 examples)"
   ]
  },
  {
   "cell_type": "code",
   "execution_count": 49,
   "id": "a099fe37",
   "metadata": {},
   "outputs": [],
   "source": [
    "# Cleaning everything and puting it alltogether\n",
    "# X, Y dataset already built (with 5 words to make it fast maybe)\n",
    "g = torch.Generator().manual_seed(2147483647) # for reproducibility\n",
    "C = torch.randn((27, 2), generator=g)\n",
    "W1 = torch.randn((6, 100), generator=g)\n",
    "b1 = torch.randn(100, generator=g)\n",
    "W2 = torch.randn((100, 27), generator=g)\n",
    "b2 = torch.randn(27, generator=g)\n",
    "parameters = [C, W1, b1, W2, b2]"
   ]
  },
  {
   "cell_type": "code",
   "execution_count": 50,
   "id": "42452c0e",
   "metadata": {},
   "outputs": [],
   "source": [
    "for p in parameters:\n",
    "    p.requires_grad = True"
   ]
  },
  {
   "cell_type": "code",
   "execution_count": 51,
   "id": "a0aef3b0",
   "metadata": {},
   "outputs": [
    {
     "name": "stdout",
     "output_type": "stream",
     "text": [
      "19.505229949951172\n",
      "17.084487915039062\n",
      "15.776531219482422\n",
      "14.833340644836426\n",
      "14.002598762512207\n",
      "13.253256797790527\n",
      "12.579916954040527\n",
      "11.983099937438965\n",
      "11.47049331665039\n",
      "11.051857948303223\n"
     ]
    }
   ],
   "source": [
    "for _ in range(10):\n",
    "    # forward pass\n",
    "    emb = C[X]\n",
    "    h = torch.tanh(emb.view(-1, 6) @ W1 + b1)\n",
    "    logits = h @ W2 + b2\n",
    "    #prob = counts / counts.sum(1, keepdims = True)\n",
    "    #a = prob[torch.arange(32), Y]\n",
    "    #loss = -a.log().mean()\n",
    "    loss = F.cross_entropy(logits, Y) # does the same as the three commented lines above\n",
    "    print(loss.item())\n",
    "    \n",
    "    #backward pass\n",
    "    for p in parameters:\n",
    "        p.grad = None\n",
    "\n",
    "    loss.backward()\n",
    "    #update\n",
    "    for p in parameters:\n",
    "        p.data += -0.1*p.grad"
   ]
  },
  {
   "cell_type": "code",
   "execution_count": 52,
   "id": "30b45e3f",
   "metadata": {},
   "outputs": [],
   "source": [
    "# -------------------------------------------------------------------------------------"
   ]
  },
  {
   "cell_type": "code",
   "execution_count": 53,
   "id": "050c1c05",
   "metadata": {},
   "outputs": [
    {
     "data": {
      "text/plain": [
       "tensor([194384,  93484,  67450, 138998, 148686, 225083, 118170, 150704, 102887,\n",
       "        118619,  56915, 138585,  46111,  38285, 187918,  26328, 214203, 174070,\n",
       "         81773, 103300,  61407,  63040, 165479, 168270, 138763, 183782, 193212,\n",
       "         30651,  65992, 199997,  10243, 167088])"
      ]
     },
     "execution_count": 53,
     "metadata": {},
     "output_type": "execute_result"
    }
   ],
   "source": [
    "# We see that it takes long, so we may want to just train with batches instead of the whole dataset\n",
    "# To create random numbers between 0 and the total number of examples we do\n",
    "torch.randint(0, X.shape[0], (32,))"
   ]
  },
  {
   "cell_type": "code",
   "execution_count": 54,
   "id": "0daeddf1",
   "metadata": {},
   "outputs": [
    {
     "name": "stdout",
     "output_type": "stream",
     "text": [
      "4.040523529052734\n"
     ]
    }
   ],
   "source": [
    "for _ in range(100):\n",
    "    # minibatch construct\n",
    "    ix = torch.randint(0, X.shape[0], (32,))\n",
    "    \n",
    "    # forward pass\n",
    "    emb = C[X[ix]]\n",
    "    h = torch.tanh(emb.view(-1, 6) @ W1 + b1)\n",
    "    logits = h @ W2 + b2\n",
    "    #prob = counts / counts.sum(1, keepdims = True)\n",
    "    #a = prob[torch.arange(32), Y]\n",
    "    #loss = -a.log().mean()\n",
    "    loss = F.cross_entropy(logits, Y[ix]) # does the same as the three commented lines above\n",
    "    \n",
    "    #backward pass\n",
    "    for p in parameters:\n",
    "        p.grad = None\n",
    "\n",
    "    loss.backward()\n",
    "    #update\n",
    "    for p in parameters:\n",
    "        p.data += -0.1*p.grad\n",
    "\n",
    "print(loss.item())"
   ]
  },
  {
   "cell_type": "code",
   "execution_count": 55,
   "id": "cdd8acc3",
   "metadata": {},
   "outputs": [],
   "source": [
    "# To better determine the learning rate we do this\n",
    "lre = torch.linspace(-3, 0, 10000)\n",
    "lrs = 10**lre\n",
    "#lrs"
   ]
  },
  {
   "cell_type": "code",
   "execution_count": 56,
   "id": "79b1f44a",
   "metadata": {},
   "outputs": [
    {
     "name": "stdout",
     "output_type": "stream",
     "text": [
      "2.723832607269287\n"
     ]
    }
   ],
   "source": [
    "lri = []\n",
    "lossi = []\n",
    "\n",
    "for i in range(10000):\n",
    "    # minibatch construct\n",
    "    ix = torch.randint(0, X.shape[0], (32,))\n",
    "    \n",
    "    # forward pass\n",
    "    emb = C[X[ix]]\n",
    "    h = torch.tanh(emb.view(-1, 6) @ W1 + b1)\n",
    "    logits = h @ W2 + b2\n",
    "    #prob = counts / counts.sum(1, keepdims = True)\n",
    "    #a = prob[torch.arange(32), Y]\n",
    "    #loss = -a.log().mean()\n",
    "    \n",
    "    loss = F.cross_entropy(logits, Y[ix]) # does the same as the three commented lines above\n",
    "    \n",
    "    #backward pass\n",
    "    for p in parameters:\n",
    "        p.grad = None\n",
    "    \n",
    "    #lr = lrs[i]\n",
    "    lr = 10**(-1)\n",
    "    \n",
    "    loss.backward()\n",
    "    #update\n",
    "    for p in parameters:\n",
    "        p.data += -lr * p.grad\n",
    "    \n",
    "    #tracking\n",
    "    lri.append(lre[i]) # we store the exponent of the learning rate\n",
    "    lossi.append(loss.item())\n",
    "\n",
    "print(loss.item())"
   ]
  },
  {
   "cell_type": "code",
   "execution_count": 57,
   "id": "b17694d6",
   "metadata": {},
   "outputs": [
    {
     "data": {
      "text/plain": [
       "[<matplotlib.lines.Line2D at 0x24f24a44f70>]"
      ]
     },
     "execution_count": 57,
     "metadata": {},
     "output_type": "execute_result"
    },
    {
     "data": {
      "image/png": "[encoded data removed]",
      "text/plain": [
       "<Figure size 432x288 with 1 Axes>"
      ]
     },
     "metadata": {
      "needs_background": "light"
     },
     "output_type": "display_data"
    }
   ],
   "source": [
    "plt.plot(lri, lossi)"
   ]
  },
  {
   "cell_type": "code",
   "execution_count": 58,
   "id": "e9b29f96",
   "metadata": {},
   "outputs": [],
   "source": [
    "# -------------------------------------------------------------------------------------"
   ]
  },
  {
   "cell_type": "code",
   "execution_count": 59,
   "id": "39ee428d",
   "metadata": {},
   "outputs": [
    {
     "name": "stdout",
     "output_type": "stream",
     "text": [
      "torch.Size([182625, 3]) torch.Size([182625])\n",
      "torch.Size([22655, 3]) torch.Size([22655])\n",
      "torch.Size([22866, 3]) torch.Size([22866])\n"
     ]
    }
   ],
   "source": [
    "# If we train and train the model we will run into overfitting problem\n",
    "# In order to avoid this we split the data set into: training, dev/validation (for hyperparameter training such as\n",
    "# the number of neurones) and test split - 80, 10 and 10 % respectively\n",
    "\n",
    "# build the dataset splitted\n",
    "block_size = 3 # context length: how many characters do we take to predict the next one?\n",
    "\n",
    "def build_dataset(words):  \n",
    "    X, Y = [], []\n",
    "    for w in words:\n",
    "\n",
    "        #print(w)\n",
    "        context = [0] * block_size\n",
    "        for ch in w + '.':\n",
    "            ix = stoi[ch]\n",
    "            X.append(context)\n",
    "            Y.append(ix)\n",
    "            #print(''.join(itos[i] for i in context), '--->', itos[ix])\n",
    "            context = context[1:] + [ix] # crop and append\n",
    "\n",
    "    X = torch.tensor(X)\n",
    "    Y = torch.tensor(Y)\n",
    "    print(X.shape, Y.shape)\n",
    "    return X, Y\n",
    "\n",
    "random.seed(42)\n",
    "random.shuffle(words)\n",
    "n1 = int(0.8*len(words))\n",
    "n2 = int(0.9*len(words))\n",
    "\n",
    "Xtr, Ytr = build_dataset(words[:n1]) # Now this is the dataset for training\n",
    "Xdev, Ydev = build_dataset(words[n1:n2])\n",
    "Xte, Yte = build_dataset(words[n2:])"
   ]
  },
  {
   "cell_type": "code",
   "execution_count": 60,
   "id": "be684511",
   "metadata": {},
   "outputs": [
    {
     "data": {
      "text/plain": [
       "(torch.Size([182625, 3]), torch.int64, torch.Size([182625]), torch.int64)"
      ]
     },
     "execution_count": 60,
     "metadata": {},
     "output_type": "execute_result"
    }
   ],
   "source": [
    "# Our dataset for training\n",
    "Xtr.shape, Xtr.dtype, Ytr.shape, Ytr.dtype"
   ]
  },
  {
   "cell_type": "code",
   "execution_count": 61,
   "id": "12e27010",
   "metadata": {},
   "outputs": [
    {
     "name": "stdout",
     "output_type": "stream",
     "text": [
      "2.0498671531677246\n"
     ]
    }
   ],
   "source": [
    "lri = []\n",
    "lossi = []\n",
    "stepi = []\n",
    "\n",
    "for i in range(100):\n",
    "    # minibatch construct\n",
    "    ix = torch.randint(0, Xtr.shape[0], (32,))\n",
    "    \n",
    "    # forward pass\n",
    "    emb = C[Xtr[ix]]\n",
    "    h = torch.tanh(emb.view(-1, 6) @ W1 + b1)\n",
    "    logits = h @ W2 + b2\n",
    "    #prob = counts / counts.sum(1, keepdims = True)\n",
    "    #a = prob[torch.arange(32), Y]\n",
    "    #loss = -a.log().mean()\n",
    "    \n",
    "    loss = F.cross_entropy(logits, Ytr[ix]) # does the same as the three commented lines above\n",
    "    \n",
    "    #backward pass\n",
    "    for p in parameters:\n",
    "        p.grad = None\n",
    "    \n",
    "    #lr = lrs[i]\n",
    "    lr = 10**(-1)\n",
    "    \n",
    "    loss.backward()\n",
    "    #update\n",
    "    for p in parameters:\n",
    "        p.data += -lr * p.grad\n",
    "    \n",
    "    #tracking\n",
    "    lri.append(lre[i]) # we store the exponent of the learning rate\n",
    "    lossi.append(loss.item())\n",
    "    stepi.append(i)\n",
    "\n",
    "print(loss.item())"
   ]
  },
  {
   "cell_type": "code",
   "execution_count": 62,
   "id": "72ef98e1",
   "metadata": {},
   "outputs": [
    {
     "data": {
      "text/plain": [
       "tensor(2.4772, grad_fn=<NllLossBackward0>)"
      ]
     },
     "execution_count": 62,
     "metadata": {},
     "output_type": "execute_result"
    }
   ],
   "source": [
    "# But now we evaluate the loss with the other dataset\n",
    "emb = C[Xdev]\n",
    "h = torch.tanh(emb.view(-1, 6) @ W1 + b1)\n",
    "logits = h @ W2 + b2\n",
    "loss = F.cross_entropy(logits, Ydev)\n",
    "loss"
   ]
  },
  {
   "cell_type": "code",
   "execution_count": 63,
   "id": "0162fe90",
   "metadata": {},
   "outputs": [
    {
     "data": {
      "text/plain": [
       "tensor(2.4825, grad_fn=<NllLossBackward0>)"
      ]
     },
     "execution_count": 63,
     "metadata": {},
     "output_type": "execute_result"
    }
   ],
   "source": [
    "# We compare it with the loss on the whole trianing dataset\n",
    "emb = C[Xtr]\n",
    "h = torch.tanh(emb.view(-1, 6) @ W1 + b1)\n",
    "logits = h @ W2 + b2\n",
    "loss = F.cross_entropy(logits, Ytr)\n",
    "loss"
   ]
  },
  {
   "cell_type": "code",
   "execution_count": 64,
   "id": "1291cd12",
   "metadata": {},
   "outputs": [],
   "source": [
    "# Since the loss in the evaluation is roughly equal to the training we are not overfitting\n",
    "# However it also means that we are underfitting and that the size of our nn is not the optimal, it is smaller\n",
    "# Let's do this"
   ]
  },
  {
   "cell_type": "code",
   "execution_count": 65,
   "id": "a4339a50",
   "metadata": {},
   "outputs": [],
   "source": [
    "# -------------------------------------------------------------------------------------"
   ]
  },
  {
   "cell_type": "code",
   "execution_count": 66,
   "id": "faac7125",
   "metadata": {},
   "outputs": [],
   "source": [
    "# Cleaning everything and puting it alltogether\n",
    "# X, Y dataset already built (with 5 words to make it fast maybe)\n",
    "g = torch.Generator().manual_seed(2147483647) # for reproducibility\n",
    "C = torch.randn((27, 2), generator=g)\n",
    "W1 = torch.randn((6, 300), generator=g)\n",
    "b1 = torch.randn(300, generator=g)\n",
    "W2 = torch.randn((300, 27), generator=g)\n",
    "b2 = torch.randn(27, generator=g)\n",
    "parameters = [C, W1, b1, W2, b2]"
   ]
  },
  {
   "cell_type": "code",
   "execution_count": 67,
   "id": "4cd8a643",
   "metadata": {},
   "outputs": [],
   "source": [
    "for p in parameters:\n",
    "    p.requires_grad = True"
   ]
  },
  {
   "cell_type": "code",
   "execution_count": 68,
   "id": "025d7944",
   "metadata": {},
   "outputs": [
    {
     "name": "stdout",
     "output_type": "stream",
     "text": [
      "2.609015464782715\n"
     ]
    }
   ],
   "source": [
    "for i in range(40000):\n",
    "    # minibatch construct\n",
    "    ix = torch.randint(0, Xtr.shape[0], (32,))\n",
    "    \n",
    "    # forward pass\n",
    "    emb = C[Xtr[ix]]\n",
    "    h = torch.tanh(emb.view(-1, 6) @ W1 + b1)\n",
    "    logits = h @ W2 + b2\n",
    "    #prob = counts / counts.sum(1, keepdims = True)\n",
    "    #a = prob[torch.arange(32), Y]\n",
    "    #loss = -a.log().mean()\n",
    "    \n",
    "    loss = F.cross_entropy(logits, Ytr[ix]) # does the same as the three commented lines above\n",
    "    \n",
    "    #backward pass\n",
    "    for p in parameters:\n",
    "        p.grad = None\n",
    "    \n",
    "    #lr = lrs[i]\n",
    "    lr = 10**(-2)\n",
    "    \n",
    "    loss.backward()\n",
    "    #update\n",
    "    for p in parameters:\n",
    "        p.data += -lr * p.grad\n",
    "\n",
    "print(loss.item())"
   ]
  },
  {
   "cell_type": "code",
   "execution_count": 69,
   "id": "3b51963b",
   "metadata": {},
   "outputs": [
    {
     "data": {
      "text/plain": [
       "tensor(2.4701, grad_fn=<NllLossBackward0>)"
      ]
     },
     "execution_count": 69,
     "metadata": {},
     "output_type": "execute_result"
    }
   ],
   "source": [
    "# But now we evaluate the loss with the other dataset\n",
    "emb = C[Xdev]\n",
    "h = torch.tanh(emb.view(-1, 6) @ W1 + b1)\n",
    "logits = h @ W2 + b2\n",
    "loss = F.cross_entropy(logits, Ydev)\n",
    "loss"
   ]
  },
  {
   "cell_type": "code",
   "execution_count": 70,
   "id": "9e1dfdd0",
   "metadata": {},
   "outputs": [
    {
     "data": {
      "text/plain": [
       "tensor(2.4730, grad_fn=<NllLossBackward0>)"
      ]
     },
     "execution_count": 70,
     "metadata": {},
     "output_type": "execute_result"
    }
   ],
   "source": [
    "# We compare it with the loss on the whole trianing dataset\n",
    "emb = C[Xtr]\n",
    "h = torch.tanh(emb.view(-1, 6) @ W1 + b1)\n",
    "logits = h @ W2 + b2\n",
    "loss = F.cross_entropy(logits, Ytr)\n",
    "loss"
   ]
  },
  {
   "cell_type": "code",
   "execution_count": 71,
   "id": "b38ff7bb",
   "metadata": {},
   "outputs": [
    {
     "data": {
      "image/png": "[encoded data removed]",
      "text/plain": [
       "<Figure size 576x576 with 1 Axes>"
      ]
     },
     "metadata": {
      "needs_background": "light"
     },
     "output_type": "display_data"
    }
   ],
   "source": [
    "# While we are in 2 dimensional embeddings of the characters we may want to visualize them\n",
    "# visualize dimensions 0 and 1 of the embedding matrix C for all characters\n",
    "plt.figure(figsize=(8,8))\n",
    "plt.scatter(C[:,0].data, C[:,1].data, s=200)\n",
    "for i in range(C.shape[0]):\n",
    "    plt.text(C[i,0].item(), C[i,1].item(), itos[i], ha=\"center\", va=\"center\", color='white')\n",
    "plt.grid('minor')"
   ]
  },
  {
   "cell_type": "code",
   "execution_count": 72,
   "id": "1b5cd9fd",
   "metadata": {},
   "outputs": [],
   "source": [
    "# We increase the number of embeddings\n",
    "g = torch.Generator().manual_seed(2147483647) # for reproducibility\n",
    "C = torch.randn((27, 10), generator=g)\n",
    "W1 = torch.randn((30, 200), generator=g)\n",
    "b1 = torch.randn(200, generator=g)\n",
    "W2 = torch.randn((200, 27), generator=g)\n",
    "b2 = torch.randn(27, generator=g)\n",
    "parameters = [C, W1, b1, W2, b2]"
   ]
  },
  {
   "cell_type": "code",
   "execution_count": 73,
   "id": "f882c06d",
   "metadata": {},
   "outputs": [],
   "source": [
    "for p in parameters:\n",
    "    p.requires_grad = True"
   ]
  },
  {
   "cell_type": "code",
   "execution_count": 74,
   "id": "3f1b379a",
   "metadata": {},
   "outputs": [],
   "source": [
    "lri = []\n",
    "lossi = []\n",
    "stepi = []"
   ]
  },
  {
   "cell_type": "code",
   "execution_count": 75,
   "id": "782d96f4",
   "metadata": {},
   "outputs": [
    {
     "name": "stdout",
     "output_type": "stream",
     "text": [
      "2.043778657913208\n"
     ]
    }
   ],
   "source": [
    "for i in range(50000):\n",
    "    # minibatch construct\n",
    "    ix = torch.randint(0, Xtr.shape[0], (32,))\n",
    "    \n",
    "    # forward pass\n",
    "    emb = C[Xtr[ix]]\n",
    "    h = torch.tanh(emb.view(-1, 30) @ W1 + b1) # Avoid hardcoding these numbers like 30!\n",
    "    logits = h @ W2 + b2\n",
    "    #prob = counts / counts.sum(1, keepdims = True)\n",
    "    #a = prob[torch.arange(32), Y]\n",
    "    #loss = -a.log().mean()\n",
    "    \n",
    "    loss = F.cross_entropy(logits, Ytr[ix]) # does the same as the three commented lines above\n",
    "    \n",
    "    #backward pass\n",
    "    for p in parameters:\n",
    "        p.grad = None\n",
    "    \n",
    "    #lr = lrs[i]\n",
    "    lr = 10**(-2)\n",
    "    \n",
    "    loss.backward()\n",
    "    #update\n",
    "    for p in parameters:\n",
    "        p.data += -lr * p.grad\n",
    "    \n",
    "    #tracking\n",
    "    lossi.append(loss.log10().item())\n",
    "    stepi.append(i)\n",
    "\n",
    "\n",
    "print(loss.item())"
   ]
  },
  {
   "cell_type": "code",
   "execution_count": 76,
   "id": "2e7a8bc5",
   "metadata": {},
   "outputs": [
    {
     "data": {
      "text/plain": [
       "[<matplotlib.lines.Line2D at 0x24f24a98b50>]"
      ]
     },
     "execution_count": 76,
     "metadata": {},
     "output_type": "execute_result"
    },
    {
     "data": {
      "image/png": "[encoded data removed]",
      "text/plain": [
       "<Figure size 432x288 with 1 Axes>"
      ]
     },
     "metadata": {
      "needs_background": "light"
     },
     "output_type": "display_data"
    }
   ],
   "source": [
    "# We plot the log of loss vs the step\n",
    "plt.plot(stepi, lossi)"
   ]
  },
  {
   "cell_type": "code",
   "execution_count": 77,
   "id": "f7170251",
   "metadata": {},
   "outputs": [
    {
     "data": {
      "text/plain": [
       "tensor(2.3969, grad_fn=<NllLossBackward0>)"
      ]
     },
     "execution_count": 77,
     "metadata": {},
     "output_type": "execute_result"
    }
   ],
   "source": [
    "# But now we evaluate the loss with the other dataset\n",
    "emb = C[Xdev]\n",
    "h = torch.tanh(emb.view(-1, 30) @ W1 + b1)\n",
    "logits = h @ W2 + b2\n",
    "loss = F.cross_entropy(logits, Ydev) # challenge: surpas (go lower than) 2.1701\n",
    "loss"
   ]
  },
  {
   "cell_type": "code",
   "execution_count": 78,
   "id": "53d86623",
   "metadata": {},
   "outputs": [
    {
     "data": {
      "text/plain": [
       "tensor(2.3937, grad_fn=<NllLossBackward0>)"
      ]
     },
     "execution_count": 78,
     "metadata": {},
     "output_type": "execute_result"
    }
   ],
   "source": [
    "# We compare it with the loss on the whole trianing dataset\n",
    "emb = C[Xtr]\n",
    "h = torch.tanh(emb.view(-1, 30) @ W1 + b1)\n",
    "logits = h @ W2 + b2\n",
    "loss = F.cross_entropy(logits, Ytr)\n",
    "loss"
   ]
  },
  {
   "cell_type": "code",
   "execution_count": 84,
   "id": "945b6a52",
   "metadata": {},
   "outputs": [],
   "source": [
    "# Running a first iteration with learning rate 0.1 and some other 0.01 we start to see that the\n",
    "# loss on the training set is lower than the one in the evaluation set, sign of possible slight overfitting"
   ]
  },
  {
   "cell_type": "code",
   "execution_count": 88,
   "id": "606ddb69",
   "metadata": {},
   "outputs": [
    {
     "name": "stdout",
     "output_type": "stream",
     "text": [
      "pordi.\n",
      "fen.\n",
      "meoe.\n",
      "gavei.\n",
      "joreney.\n",
      "hen.\n",
      "reo.\n",
      "jis.\n",
      "siri.\n",
      "evonywalle.\n"
     ]
    }
   ],
   "source": [
    "# finally a taste of how to sample from the model :)\n",
    "#g = torch.Generator().manual_seed(2147483647 + 10)\n",
    "\n",
    "for _ in range(10):\n",
    "    \n",
    "    out = []\n",
    "    context = [0] * block_size # initialize with all ...\n",
    "    while True:\n",
    "        emb = C[torch.tensor([context])] # (1,block_size,d)\n",
    "        h = torch.tanh(emb.view(1, -1) @ W1 + b1)\n",
    "        logits = h @ W2 + b2\n",
    "        probs = F.softmax(logits, dim=1)\n",
    "        ix = torch.multinomial(probs, num_samples=1, generator=g).item()\n",
    "        context = context[1:] + [ix]\n",
    "        out.append(ix)\n",
    "        if ix == 0:\n",
    "            break\n",
    "    \n",
    "    print(''.join(itos[i] for i in out))"
   ]
  },
  {
   "cell_type": "code",
   "execution_count": null,
   "id": "b8cdcfe3",
   "metadata": {},
   "outputs": [],
   "source": []
  },
  {
   "cell_type": "code",
   "execution_count": null,
   "id": "f9b16837",
   "metadata": {},
   "outputs": [],
   "source": []
  }
 ],
 "metadata": {
  "kernelspec": {
   "display_name": "Python 3",
   "language": "python",
   "name": "python3"
  },
  "language_info": {
   "codemirror_mode": {
    "name": "ipython",
    "version": 3
   },
   "file_extension": ".py",
   "mimetype": "text/x-python",
   "name": "python",
   "nbconvert_exporter": "python",
   "pygments_lexer": "ipython3",
   "version": "3.8.8"
  }
 },
 "nbformat": 4,
 "nbformat_minor": 5
}
